{
 "cells": [
  {
   "cell_type": "markdown",
   "id": "30fe56af",
   "metadata": {},
   "source": [
    "# Part 3: Implement our resolver\n",
    "\n",
    "So far we've been making our queries to `8.8.8.8`, and letting `8.8.8.8` do all\n",
    "the work of figuring out the IP address for `example.com`.\n",
    "\n",
    "Now we're going to switch gears and figure out the IP address for `example.com`\n",
    "on our own.\n",
    "\n",
    "Our goal is to write a `resolve` function that we call like this: `resolve(\"example.com\")`."
   ]
  },
  {
   "cell_type": "markdown",
   "id": "5e2ca035",
   "metadata": {},
   "source": [
    "First, we'll import the functions we wrote in the previous parts:"
   ]
  },
  {
   "cell_type": "code",
   "execution_count": 1,
   "id": "edf8cd50",
   "metadata": {},
   "outputs": [],
   "source": [
    "from part_1 import header_to_bytes, question_to_bytes, encode_dns_name\n",
    "from part_2 import DNSHeader, DNSQuestion, DNSRecord, DNSPacket\n",
    "from part_2 import decode_name, parse_header, parse_question, parse_dns_packet\n",
    "from part_2 import ip_to_string"
   ]
  },
  {
   "cell_type": "markdown",
   "id": "0ac96fdf",
   "metadata": {},
   "source": [
    "## 3.1: don’t ask for recursion\n",
    "\n",
    "We need to make a small fix to our `build_query` function from part 1. Previously when we\n",
    "built our query, we were asking a DNS resolver (a cache), so we set `flags` to `RECURSION_DESIRED`. Now we're asking an\n",
    "authoritative nameserver (the source of truth), so we need to set `flags=0` instead."
   ]
  },
  {
   "cell_type": "code",
   "execution_count": 2,
   "id": "ab8cc79d",
   "metadata": {},
   "outputs": [],
   "source": [
    "TYPE_A = 1\n",
    "CLASS_IN = 1\n",
    "import random\n",
    "def build_query(domain_name, record_type):\n",
    "    name = encode_dns_name(domain_name)\n",
    "    id = random.randint(0, 65535)\n",
    "    header = DNSHeader(id=id, num_questions=1, flags=0) # changed this line\n",
    "    question = DNSQuestion(name=name, type_=record_type, class_=CLASS_IN)\n",
    "    return header_to_bytes(header) + question_to_bytes(question)"
   ]
  },
  {
   "cell_type": "markdown",
   "id": "24b3d5af",
   "metadata": {},
   "source": [
    "## 3.2: write a `send_query` function\n",
    "\n",
    "Next, let's write a function that asks a DNS server about a domain name. This is almost exactly the same as the code from section `1.5`: we just call `parse_dns_packet` at the end.\n",
    "\n"
   ]
  },
  {
   "cell_type": "code",
   "execution_count": 3,
   "id": "0576715b",
   "metadata": {},
   "outputs": [],
   "source": [
    "import socket\n",
    "\n",
    "def send_query(ip_address, domain_name, record_type):\n",
    "    query = build_query(domain_name, record_type)\n",
    "    sock = socket.socket(socket.AF_INET, socket.SOCK_DGRAM)\n",
    "    sock.sendto(query, (ip_address, 53))\n",
    "\n",
    "    data, _ = sock.recvfrom(1024)\n",
    "    return parse_dns_packet(data)\n"
   ]
  },
  {
   "cell_type": "markdown",
   "id": "7d718c9a",
   "metadata": {},
   "source": [
    "There's nothing special going on here -- we just build the query, send it, and parse the response.\n",
    "\n",
    "\n",
    "Let's run it just to see that it's working:"
   ]
  },
  {
   "cell_type": "code",
   "execution_count": 4,
   "id": "eed1cc17",
   "metadata": {},
   "outputs": [
    {
     "data": {
      "text/plain": [
       "DNSRecord(name=b'example.com', type_=1, class_=1, ttl=18366, data=b']\\xb8\\xd8\"')"
      ]
     },
     "execution_count": 4,
     "metadata": {},
     "output_type": "execute_result"
    }
   ],
   "source": [
    "send_query(\"8.8.8.8\", \"example.com\", TYPE_A).answers[0]"
   ]
  },
  {
   "cell_type": "markdown",
   "id": "9546dc94",
   "metadata": {},
   "source": [
    "We can also query for `example.com`'s TXT records, just for fun:"
   ]
  },
  {
   "cell_type": "code",
   "execution_count": 5,
   "id": "eadc3691",
   "metadata": {},
   "outputs": [
    {
     "data": {
      "text/plain": [
       "[]"
      ]
     },
     "execution_count": 5,
     "metadata": {},
     "output_type": "execute_result"
    }
   ],
   "source": [
    "TYPE_TXT = 16\n",
    "send_query(\"8.8.8.8\", \"example.com\", TYPE_TXT).answers"
   ]
  },
  {
   "cell_type": "markdown",
   "id": "049a8751",
   "metadata": {},
   "source": [
    "## 3.3: improve our parsing a little bit\n",
    "\n",
    "We're going to need to deal with one more record type here: the `NS` record\n",
    "type. This record type says \"hey, I don't have the answer, but this other\n",
    "server does, ask them instead\".\n",
    "\n",
    "So we need some code to parse the domain name.\n",
    "\n"
   ]
  },
  {
   "cell_type": "code",
   "execution_count": 6,
   "id": "c1dc1d5f",
   "metadata": {},
   "outputs": [],
   "source": [
    "TYPE_A = 1\n",
    "TYPE_NS = 2\n",
    "import struct\n",
    "\n",
    "def parse_record(reader):\n",
    "    name = decode_name(reader)\n",
    "    data = reader.read(10)\n",
    "    type_, class_, ttl, data_len = struct.unpack(\"!HHIH\", data)\n",
    "    # It would be more hygenic here to store the raw data and the\n",
    "    # parsed result in separate fields in DNSRecord, but we're lazy.\n",
    "    if type_ == TYPE_NS: # here's the code we're adding\n",
    "        data = decode_name(reader)\n",
    "    elif type_ == TYPE_A:\n",
    "        data = ip_to_string(reader.read(data_len))\n",
    "    else:\n",
    "        data = reader.read(data_len)\n",
    "    return DNSRecord(name, type_, class_, ttl, data)"
   ]
  },
  {
   "cell_type": "markdown",
   "id": "5e109dab",
   "metadata": {},
   "source": [
    "Now let's redefine `parse_dns_packet` from Part 2 to use our new `parse_record` function."
   ]
  },
  {
   "cell_type": "code",
   "execution_count": 7,
   "id": "affd6fa7",
   "metadata": {},
   "outputs": [],
   "source": [
    "from io import BytesIO\n",
    "from part_2 import parse_header, parse_question, decode_name\n",
    "def parse_dns_packet(data):\n",
    "    reader = BytesIO(data)\n",
    "    header = parse_header(reader)\n",
    "    questions = [parse_question(reader) for _ in range(header.num_questions)]\n",
    "    answers = [parse_record(reader) for _ in range(header.num_answers)]\n",
    "    authorities = [parse_record(reader) for _ in range(header.num_authorities)]\n",
    "    additionals = [parse_record(reader) for _ in range(header.num_additionals)]\n",
    "\n",
    "    return DNSPacket(header, questions, answers, authorities, additionals)"
   ]
  },
  {
   "cell_type": "markdown",
   "id": "9c82935f",
   "metadata": {},
   "source": [
    "## 3.4: query the root nameserver\n",
    "\n",
    "Every DNS query starts with a root nameserver, and `\"198.41.0.4\"` is the IP address for one of the root nameservers -- `a.root-servers.net`.\n",
    "\n",
    "Before we write our `resolve` function, let's play around a bit to see what things look like."
   ]
  },
  {
   "cell_type": "code",
   "execution_count": 32,
   "id": "778aa801",
   "metadata": {},
   "outputs": [],
   "source": [
    "response = send_query(\"198.41.0.4\", \"google.com\", TYPE_A)"
   ]
  },
  {
   "cell_type": "markdown",
   "id": "86411ae6",
   "metadata": {},
   "source": [
    "First, let's look at the list of answers. This is empty -- `198.41.0.4` doesn't know what the IP address for `google.com` is."
   ]
  },
  {
   "cell_type": "code",
   "execution_count": 33,
   "id": "7d104bf9",
   "metadata": {},
   "outputs": [
    {
     "data": {
      "text/plain": [
       "[]"
      ]
     },
     "execution_count": 33,
     "metadata": {},
     "output_type": "execute_result"
    }
   ],
   "source": [
    "response.answers"
   ]
  },
  {
   "cell_type": "markdown",
   "id": "f9179098",
   "metadata": {},
   "source": [
    "Next, let's look at the list of \"authority\" records. These are saying \"`a.gtld-servers.net` has the answer you need\""
   ]
  },
  {
   "cell_type": "code",
   "execution_count": 37,
   "id": "57e0b595",
   "metadata": {},
   "outputs": [
    {
     "data": {
      "text/plain": [
       "[DNSRecord(name=b'com', type_=2, class_=1, ttl=172800, data=b'e.gtld-servers.net'),\n",
       " DNSRecord(name=b'com', type_=2, class_=1, ttl=172800, data=b'b.gtld-servers.net'),\n",
       " DNSRecord(name=b'com', type_=2, class_=1, ttl=172800, data=b'j.gtld-servers.net'),\n",
       " DNSRecord(name=b'com', type_=2, class_=1, ttl=172800, data=b'm.gtld-servers.net'),\n",
       " DNSRecord(name=b'com', type_=2, class_=1, ttl=172800, data=b'i.gtld-servers.net'),\n",
       " DNSRecord(name=b'com', type_=2, class_=1, ttl=172800, data=b'f.gtld-servers.net'),\n",
       " DNSRecord(name=b'com', type_=2, class_=1, ttl=172800, data=b'a.gtld-servers.net'),\n",
       " DNSRecord(name=b'com', type_=2, class_=1, ttl=172800, data=b'g.gtld-servers.net'),\n",
       " DNSRecord(name=b'com', type_=2, class_=1, ttl=172800, data=b'h.gtld-servers.net'),\n",
       " DNSRecord(name=b'com', type_=2, class_=1, ttl=172800, data=b'l.gtld-servers.net'),\n",
       " DNSRecord(name=b'com', type_=2, class_=1, ttl=172800, data=b'k.gtld-servers.net'),\n",
       " DNSRecord(name=b'com', type_=2, class_=1, ttl=172800, data=b'c.gtld-servers.net'),\n",
       " DNSRecord(name=b'com', type_=2, class_=1, ttl=172800, data=b'd.gtld-servers.net')]"
      ]
     },
     "execution_count": 37,
     "metadata": {},
     "output_type": "execute_result"
    }
   ],
   "source": [
    "response.authorities"
   ]
  },
  {
   "cell_type": "markdown",
   "id": "21400849",
   "metadata": {},
   "source": [
    "Finally, let's look at the additional records. These are giving us the IP addresses for all of the servers mentioned in the \"authority\" section -- for example, the IP for `e.gtld-servers.net` is `192.12.94.30`."
   ]
  },
  {
   "cell_type": "code",
   "execution_count": 38,
   "id": "e8e3f8ab",
   "metadata": {},
   "outputs": [
    {
     "data": {
      "text/plain": [
       "[DNSRecord(name=b'e.gtld-servers.net', type_=1, class_=1, ttl=172800, data='192.12.94.30'),\n",
       " DNSRecord(name=b'e.gtld-servers.net', type_=28, class_=1, ttl=172800, data=b' \\x01\\x05\\x02\\x1c\\xa1\\x00\\x00\\x00\\x00\\x00\\x00\\x00\\x00\\x000'),\n",
       " DNSRecord(name=b'b.gtld-servers.net', type_=1, class_=1, ttl=172800, data='192.33.14.30'),\n",
       " DNSRecord(name=b'b.gtld-servers.net', type_=28, class_=1, ttl=172800, data=b' \\x01\\x05\\x03#\\x1d\\x00\\x00\\x00\\x00\\x00\\x00\\x00\\x02\\x000'),\n",
       " DNSRecord(name=b'j.gtld-servers.net', type_=1, class_=1, ttl=172800, data='192.48.79.30'),\n",
       " DNSRecord(name=b'j.gtld-servers.net', type_=28, class_=1, ttl=172800, data=b' \\x01\\x05\\x02p\\x94\\x00\\x00\\x00\\x00\\x00\\x00\\x00\\x00\\x000'),\n",
       " DNSRecord(name=b'm.gtld-servers.net', type_=1, class_=1, ttl=172800, data='192.55.83.30'),\n",
       " DNSRecord(name=b'm.gtld-servers.net', type_=28, class_=1, ttl=172800, data=b' \\x01\\x05\\x01\\xb1\\xf9\\x00\\x00\\x00\\x00\\x00\\x00\\x00\\x00\\x000'),\n",
       " DNSRecord(name=b'i.gtld-servers.net', type_=1, class_=1, ttl=172800, data='192.43.172.30'),\n",
       " DNSRecord(name=b'i.gtld-servers.net', type_=28, class_=1, ttl=172800, data=b' \\x01\\x05\\x039\\xc1\\x00\\x00\\x00\\x00\\x00\\x00\\x00\\x00\\x000'),\n",
       " DNSRecord(name=b'f.gtld-servers.net', type_=1, class_=1, ttl=172800, data='192.35.51.30')]"
      ]
     },
     "execution_count": 38,
     "metadata": {},
     "output_type": "execute_result"
    }
   ],
   "source": [
    "response.additionals"
   ]
  },
  {
   "cell_type": "markdown",
   "id": "1ec301cd",
   "metadata": {},
   "source": [
    "## where did we get \"198.41.0.4\" from?"
   ]
  },
  {
   "cell_type": "markdown",
   "id": "2849c8e4",
   "metadata": {},
   "source": [
    "You might be wondering: where did we get this IP address `198.41.0.4` from? Isn't that cheating?\n",
    "\n",
    "Real DNS resolvers actually do hardcode the IP addresses of the root nameservers. This is because if you're implementing DNS, you have to start _somewhere_ -- if you're implementing DNS, you can't use DNS to look up the IP address. Some links:\n",
    "\n",
    "* [an official list of all the root nameserver IPs from IANA](https://www.iana.org/domains/root/servers)\n",
    "* [the code in `bind` which hardcodes the root nameserver IPs](https://gitlab.isc.org/isc-projects/bind9/-/blame/4c3b063ef8bd6e47b13c1dac3087daa1301a78ac/lib/dns/rootns.c#L37-80). You can see there that many of them haven't changed since the year 2000.\n",
    "* [the code in `unbound` which hardcodes the root nameserver IPs](https://github.com/NLnetLabs/unbound/blob/1fb78afc291a72f2a69f2c8215e36428d5bfb8f8/iterator/iter_hints.c#L131-L143)"
   ]
  },
  {
   "cell_type": "markdown",
   "id": "fa970f9b",
   "metadata": {},
   "source": [
    "## 3.5: query `e.gtld-servers.net`\n",
    "\n",
    "The root nameserver told us to ask `e.gtld-servers.net`, so let's do that. (We could have picked `k.gtld-servers.net` instead -- the choice we're making is arbitrary).\n",
    "\n",
    "The `additional` section tells us its IP is `192.12.94.30`. So let's ask that IP what the IP address for `google.com` is."
   ]
  },
  {
   "cell_type": "code",
   "execution_count": 39,
   "id": "358b165e",
   "metadata": {},
   "outputs": [],
   "source": [
    "response = send_query(\"192.12.94.30\", \"google.com\", TYPE_A)"
   ]
  },
  {
   "cell_type": "markdown",
   "id": "687e8870",
   "metadata": {},
   "source": [
    "Let's look at the list of answers again. This is empty -- `a.gtld-servers.net` doesn't have the IP address for `google.com` either."
   ]
  },
  {
   "cell_type": "code",
   "execution_count": 40,
   "id": "201ca4c3",
   "metadata": {},
   "outputs": [
    {
     "data": {
      "text/plain": [
       "[]"
      ]
     },
     "execution_count": 40,
     "metadata": {},
     "output_type": "execute_result"
    }
   ],
   "source": [
    "response.answers"
   ]
  },
  {
   "cell_type": "markdown",
   "id": "d968a6d2",
   "metadata": {},
   "source": [
    "Next, let's look at the list of authorities."
   ]
  },
  {
   "cell_type": "code",
   "execution_count": 41,
   "id": "7e9b895b",
   "metadata": {},
   "outputs": [
    {
     "data": {
      "text/plain": [
       "[DNSRecord(name=b'google.com', type_=2, class_=1, ttl=172800, data=b'ns2.google.com'),\n",
       " DNSRecord(name=b'google.com', type_=2, class_=1, ttl=172800, data=b'ns1.google.com'),\n",
       " DNSRecord(name=b'google.com', type_=2, class_=1, ttl=172800, data=b'ns3.google.com'),\n",
       " DNSRecord(name=b'google.com', type_=2, class_=1, ttl=172800, data=b'ns4.google.com')]"
      ]
     },
     "execution_count": 41,
     "metadata": {},
     "output_type": "execute_result"
    }
   ],
   "source": [
    "response.authorities"
   ]
  },
  {
   "cell_type": "markdown",
   "id": "8db5f899",
   "metadata": {},
   "source": [
    "This is telling us to ask `ns1.google.com`, `ns2.google.com`, `ns3.google.com`, etc.\n",
    "\n",
    "Next, the additional records:"
   ]
  },
  {
   "cell_type": "code",
   "execution_count": 42,
   "id": "252e62ec",
   "metadata": {},
   "outputs": [
    {
     "data": {
      "text/plain": [
       "[DNSRecord(name=b'ns2.google.com', type_=28, class_=1, ttl=172800, data=b' \\x01H`H\\x02\\x004\\x00\\x00\\x00\\x00\\x00\\x00\\x00\\n'),\n",
       " DNSRecord(name=b'ns2.google.com', type_=1, class_=1, ttl=172800, data='216.239.34.10'),\n",
       " DNSRecord(name=b'ns1.google.com', type_=28, class_=1, ttl=172800, data=b' \\x01H`H\\x02\\x002\\x00\\x00\\x00\\x00\\x00\\x00\\x00\\n'),\n",
       " DNSRecord(name=b'ns1.google.com', type_=1, class_=1, ttl=172800, data='216.239.32.10'),\n",
       " DNSRecord(name=b'ns3.google.com', type_=28, class_=1, ttl=172800, data=b' \\x01H`H\\x02\\x006\\x00\\x00\\x00\\x00\\x00\\x00\\x00\\n'),\n",
       " DNSRecord(name=b'ns3.google.com', type_=1, class_=1, ttl=172800, data='216.239.36.10'),\n",
       " DNSRecord(name=b'ns4.google.com', type_=28, class_=1, ttl=172800, data=b' \\x01H`H\\x02\\x008\\x00\\x00\\x00\\x00\\x00\\x00\\x00\\n'),\n",
       " DNSRecord(name=b'ns4.google.com', type_=1, class_=1, ttl=172800, data='216.239.38.10')]"
      ]
     },
     "execution_count": 42,
     "metadata": {},
     "output_type": "execute_result"
    }
   ],
   "source": [
    "response.additionals"
   ]
  },
  {
   "cell_type": "markdown",
   "id": "475f9502",
   "metadata": {},
   "source": [
    "This is telling us that the IPv4 address for `ns1.google.com` is `216.239.32.10` (+ the IPv6 addresses and the IPv4 addresses for the other nameservers). These additional records that give us a nameserver's IP address are sometimes called \"glue records\"."
   ]
  },
  {
   "cell_type": "markdown",
   "id": "26bbb1a4",
   "metadata": {},
   "source": [
    "Finally, let's ask `216.239.32.10` for the IP address for `google.com`:"
   ]
  },
  {
   "cell_type": "code",
   "execution_count": 16,
   "id": "bfa892c9",
   "metadata": {},
   "outputs": [
    {
     "data": {
      "text/plain": [
       "[DNSRecord(name=b'google.com', type_=1, class_=1, ttl=300, data='172.217.13.110')]"
      ]
     },
     "execution_count": 16,
     "metadata": {},
     "output_type": "execute_result"
    }
   ],
   "source": [
    "send_query(\"216.239.32.10\", \"google.com\", TYPE_A).answers"
   ]
  },
  {
   "cell_type": "markdown",
   "id": "7dc8e4cb",
   "metadata": {},
   "source": [
    "It worked! Hooray! You can see the IP address for `google.com` at the end there (`data='...'`).\n",
    "\n",
    "The actual IP address will depend on where in the world you run the code, because `google.com` has different IP addresses in different places in the world. This is a pretty common thing, you can look up \"GeoDNS\" for more."
   ]
  },
  {
   "cell_type": "markdown",
   "id": "c2535ec3",
   "metadata": {},
   "source": [
    "## 3.6: write a (wrong) `resolve` function"
   ]
  },
  {
   "cell_type": "markdown",
   "id": "bac23401",
   "metadata": {},
   "source": [
    "Now, let's write a function to do all the steps we did above:"
   ]
  },
  {
   "cell_type": "code",
   "execution_count": 17,
   "id": "bea10c3b",
   "metadata": {},
   "outputs": [],
   "source": [
    "def get_answer(packet):\n",
    "    # return the first A record in the Answer section\n",
    "    for x in packet.answers:\n",
    "        if x.type_ == TYPE_A:\n",
    "            return x.data\n",
    "        \n",
    "def get_nameserver_ip(packet):\n",
    "    # return the first A record in the Additional section\n",
    "    for x in packet.additionals:\n",
    "        if x.type_ == TYPE_A:\n",
    "            return x.data"
   ]
  },
  {
   "cell_type": "code",
   "execution_count": 18,
   "id": "04f93cb0",
   "metadata": {},
   "outputs": [],
   "source": [
    "def resolve_wrong(domain_name, record_type):\n",
    "    nameserver = \"198.41.0.4\"\n",
    "    while True:\n",
    "        print(f\"Querying {nameserver} for {domain_name}\")\n",
    "        response = send_query(nameserver, domain_name, record_type)\n",
    "        if ip := get_answer(response):\n",
    "            return ip\n",
    "        elif nsIP := get_nameserver_ip(response):\n",
    "            nameserver = nsIP\n",
    "        else:\n",
    "            raise Exception(\"something went wrong\")"
   ]
  },
  {
   "cell_type": "code",
   "execution_count": 19,
   "id": "7d1783b5",
   "metadata": {},
   "outputs": [
    {
     "name": "stdout",
     "output_type": "stream",
     "text": [
      "Querying 198.41.0.4 for google.com\n",
      "Querying 192.5.6.30 for google.com\n",
      "Querying 216.239.34.10 for google.com\n"
     ]
    },
    {
     "data": {
      "text/plain": [
       "'172.217.13.110'"
      ]
     },
     "execution_count": 19,
     "metadata": {},
     "output_type": "execute_result"
    }
   ],
   "source": [
    "resolve_wrong(\"google.com\", TYPE_A)"
   ]
  },
  {
   "cell_type": "code",
   "execution_count": 20,
   "id": "d69bb487",
   "metadata": {},
   "outputs": [
    {
     "name": "stdout",
     "output_type": "stream",
     "text": [
      "Querying 198.41.0.4 for facebook.com\n",
      "Querying 192.5.6.30 for facebook.com\n",
      "Querying 129.134.30.12 for facebook.com\n"
     ]
    },
    {
     "data": {
      "text/plain": [
       "'157.240.241.35'"
      ]
     },
     "execution_count": 20,
     "metadata": {},
     "output_type": "execute_result"
    }
   ],
   "source": [
    "resolve_wrong(\"facebook.com\", TYPE_A)"
   ]
  },
  {
   "cell_type": "markdown",
   "id": "b8caf601",
   "metadata": {},
   "source": [
    "Everything's looking good! Our function works!\n",
    "\n",
    "But when we try `twitter.com`, things go terribly wrong:"
   ]
  },
  {
   "cell_type": "code",
   "execution_count": 21,
   "id": "d5d7c298",
   "metadata": {
    "tags": [
     "raises-exception"
    ]
   },
   "outputs": [
    {
     "name": "stdout",
     "output_type": "stream",
     "text": [
      "Querying 198.41.0.4 for twitter.com\n",
      "Querying 192.5.6.30 for twitter.com\n"
     ]
    },
    {
     "ename": "Exception",
     "evalue": "something went wrong",
     "output_type": "error",
     "traceback": [
      "\u001b[0;31m---------------------------------------------------------------------------\u001b[0m",
      "\u001b[0;31mException\u001b[0m                                 Traceback (most recent call last)",
      "Cell \u001b[0;32mIn [21], line 1\u001b[0m\n\u001b[0;32m----> 1\u001b[0m \u001b[43mresolve_wrong\u001b[49m\u001b[43m(\u001b[49m\u001b[38;5;124;43m\"\u001b[39;49m\u001b[38;5;124;43mtwitter.com\u001b[39;49m\u001b[38;5;124;43m\"\u001b[39;49m\u001b[43m,\u001b[49m\u001b[43m \u001b[49m\u001b[43mTYPE_A\u001b[49m\u001b[43m)\u001b[49m\n",
      "Cell \u001b[0;32mIn [18], line 11\u001b[0m, in \u001b[0;36mresolve_wrong\u001b[0;34m(domain_name, record_type)\u001b[0m\n\u001b[1;32m      9\u001b[0m     nameserver \u001b[38;5;241m=\u001b[39m nsIP\n\u001b[1;32m     10\u001b[0m \u001b[38;5;28;01melse\u001b[39;00m:\n\u001b[0;32m---> 11\u001b[0m     \u001b[38;5;28;01mraise\u001b[39;00m \u001b[38;5;167;01mException\u001b[39;00m(\u001b[38;5;124m\"\u001b[39m\u001b[38;5;124msomething went wrong\u001b[39m\u001b[38;5;124m\"\u001b[39m)\n",
      "\u001b[0;31mException\u001b[0m: something went wrong"
     ]
    }
   ],
   "source": [
    "resolve_wrong(\"twitter.com\", TYPE_A)"
   ]
  },
  {
   "cell_type": "markdown",
   "id": "68948e1e",
   "metadata": {},
   "source": [
    "## 3.7: what went wrong?"
   ]
  },
  {
   "cell_type": "markdown",
   "id": "815e236b",
   "metadata": {},
   "source": [
    "Let's look at what happens when we query `192.12.94.30` for `twitter.com`:"
   ]
  },
  {
   "cell_type": "code",
   "execution_count": 22,
   "id": "e2ea54e9",
   "metadata": {},
   "outputs": [
    {
     "data": {
      "text/plain": [
       "[]"
      ]
     },
     "execution_count": 22,
     "metadata": {},
     "output_type": "execute_result"
    }
   ],
   "source": [
    "response = send_query('192.12.94.30', 'twitter.com', TYPE_A)\n",
    "response.answers"
   ]
  },
  {
   "cell_type": "code",
   "execution_count": 23,
   "id": "d8a42c20",
   "metadata": {},
   "outputs": [
    {
     "data": {
      "text/plain": [
       "[DNSRecord(name=b'twitter.com', type_=2, class_=1, ttl=172800, data=b'a.r06.twtrdns.net'),\n",
       " DNSRecord(name=b'twitter.com', type_=2, class_=1, ttl=172800, data=b'b.r06.twtrdns.net'),\n",
       " DNSRecord(name=b'twitter.com', type_=2, class_=1, ttl=172800, data=b'c.r06.twtrdns.net'),\n",
       " DNSRecord(name=b'twitter.com', type_=2, class_=1, ttl=172800, data=b'd.r06.twtrdns.net'),\n",
       " DNSRecord(name=b'twitter.com', type_=2, class_=1, ttl=172800, data=b'b.u06.twtrdns.net'),\n",
       " DNSRecord(name=b'twitter.com', type_=2, class_=1, ttl=172800, data=b'a.u06.twtrdns.net'),\n",
       " DNSRecord(name=b'twitter.com', type_=2, class_=1, ttl=172800, data=b'c.u06.twtrdns.net'),\n",
       " DNSRecord(name=b'twitter.com', type_=2, class_=1, ttl=172800, data=b'd.u06.twtrdns.net')]"
      ]
     },
     "execution_count": 23,
     "metadata": {},
     "output_type": "execute_result"
    }
   ],
   "source": [
    "response.authorities"
   ]
  },
  {
   "cell_type": "code",
   "execution_count": 24,
   "id": "f50104dd",
   "metadata": {},
   "outputs": [
    {
     "data": {
      "text/plain": [
       "[]"
      ]
     },
     "execution_count": 24,
     "metadata": {},
     "output_type": "execute_result"
    }
   ],
   "source": [
    "response.additionals"
   ]
  },
  {
   "cell_type": "markdown",
   "id": "05b63ce6",
   "metadata": {},
   "source": [
    "What's going on here is that the `.com` nameserver (`a.gtld-servers.net`) has told us who to ask next (`a.r06.twtrdns.net`), but it hasn't given us the IP address.\n",
    "\n",
    "So we're stuck -- or are we?\n",
    "\n",
    "Luckily, we're a DNS resolver! And if we just call our `resolve_wrong` function on `a.r06.twtrdns.net`, we can figure out its IP."
   ]
  },
  {
   "cell_type": "code",
   "execution_count": 25,
   "id": "e172398c",
   "metadata": {},
   "outputs": [
    {
     "name": "stdout",
     "output_type": "stream",
     "text": [
      "Querying 198.41.0.4 for a.r06.twtrdns.net\n",
      "Querying 192.12.94.30 for a.r06.twtrdns.net\n",
      "Querying 205.251.195.207 for a.r06.twtrdns.net\n"
     ]
    },
    {
     "data": {
      "text/plain": [
       "'205.251.192.179'"
      ]
     },
     "execution_count": 25,
     "metadata": {},
     "output_type": "execute_result"
    }
   ],
   "source": [
    "resolve_wrong('a.r06.twtrdns.net', TYPE_A)"
   ]
  },
  {
   "cell_type": "markdown",
   "id": "62149847",
   "metadata": {},
   "source": [
    "This gives us the IP address we need to continue on our way"
   ]
  },
  {
   "cell_type": "code",
   "execution_count": 26,
   "id": "93af1479",
   "metadata": {},
   "outputs": [
    {
     "data": {
      "text/plain": [
       "[DNSRecord(name=b'twitter.com', type_=1, class_=1, ttl=1800, data='104.244.42.193')]"
      ]
     },
     "execution_count": 26,
     "metadata": {},
     "output_type": "execute_result"
    }
   ],
   "source": [
    "send_query('205.251.192.179', 'twitter.com', TYPE_A).answers\n"
   ]
  },
  {
   "cell_type": "markdown",
   "id": "6aedb476",
   "metadata": {},
   "source": [
    "`twitter.com`'s IP address is `104.244.42.129`! Hooray."
   ]
  },
  {
   "cell_type": "markdown",
   "id": "0365e579",
   "metadata": {},
   "source": [
    "## 3.8: write our final `resolve` function\n",
    "\n",
    "Our `resolve_wrong` function was almost perfect -- it just needs to handle one more case where we're not given the nameserver IP address and we need to look it up."
   ]
  },
  {
   "cell_type": "code",
   "execution_count": 27,
   "id": "43d9f997",
   "metadata": {},
   "outputs": [],
   "source": [
    "def get_nameserver(packet):\n",
    "    # return the first NS record in the Authority section\n",
    "    for x in packet.authorities:\n",
    "        if x.type_ == TYPE_NS:\n",
    "            return x.data.decode('utf-8')"
   ]
  },
  {
   "cell_type": "code",
   "execution_count": 28,
   "id": "a3ce01d4",
   "metadata": {},
   "outputs": [],
   "source": [
    "def resolve(domain_name, record_type):\n",
    "    nameserver = \"198.41.0.4\"\n",
    "    while True:\n",
    "        print(f\"Querying {nameserver} for {domain_name}\")\n",
    "        response = send_query(nameserver, domain_name, record_type)\n",
    "        if ip := get_answer(response):\n",
    "            return ip\n",
    "        elif nsIP := get_nameserver_ip(response):\n",
    "            nameserver = nsIP\n",
    "        # New case: look up the nameserver's IP address if there is one\n",
    "        elif ns_domain := get_nameserver(response):\n",
    "            nameserver = resolve(ns_domain, TYPE_A)\n",
    "        else:\n",
    "            raise Exception(\"something went wrong\")\n"
   ]
  },
  {
   "cell_type": "markdown",
   "id": "9ecb3fab",
   "metadata": {},
   "source": [
    "Let's try it out:"
   ]
  },
  {
   "cell_type": "code",
   "execution_count": 29,
   "id": "03b0c353",
   "metadata": {},
   "outputs": [
    {
     "name": "stdout",
     "output_type": "stream",
     "text": [
      "Querying 198.41.0.4 for twitter.com\n",
      "Querying 192.5.6.30 for twitter.com\n",
      "Querying 198.41.0.4 for a.r06.twtrdns.net\n",
      "Querying 192.5.6.30 for a.r06.twtrdns.net\n",
      "Querying 205.251.195.207 for a.r06.twtrdns.net\n",
      "Querying 205.251.192.179 for twitter.com\n"
     ]
    },
    {
     "data": {
      "text/plain": [
       "'104.244.42.1'"
      ]
     },
     "execution_count": 29,
     "metadata": {},
     "output_type": "execute_result"
    }
   ],
   "source": [
    "resolve(\"twitter.com\", TYPE_A)"
   ]
  },
  {
   "cell_type": "markdown",
   "id": "be1ae205",
   "metadata": {},
   "source": [
    "It works! Hooray!"
   ]
  },
  {
   "cell_type": "markdown",
   "id": "75631839",
   "metadata": {},
   "source": [
    "## We're all done!\n",
    "\n",
    "We're finished our toy DNS resolver! If you'd like to do more, there are a bunch of exercises to extend it to be a little more like a real DNS resolver on the next page that you can try."
   ]
  }
 ],
 "metadata": {
  "kernelspec": {
   "display_name": "Python 3 (ipykernel)",
   "language": "python",
   "name": "python3"
  },
  "language_info": {
   "codemirror_mode": {
    "name": "ipython",
    "version": 3
   },
   "file_extension": ".py",
   "mimetype": "text/x-python",
   "name": "python",
   "nbconvert_exporter": "python",
   "pygments_lexer": "ipython3",
   "version": "3.9.6"
  }
 },
 "nbformat": 4,
 "nbformat_minor": 5
}
