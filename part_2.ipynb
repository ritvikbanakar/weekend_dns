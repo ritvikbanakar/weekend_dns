{
 "cells": [
  {
   "cell_type": "markdown",
   "id": "1e4cc367",
   "metadata": {},
   "source": [
    "# Part 2: Parse the response\n",
    "\n",
    "We got a response to our DNS query for `example.com`. But what does it say? Let's find out! Here's the response we got:"
   ]
  },
  {
   "cell_type": "code",
   "execution_count": 8,
   "id": "1ca37e3f",
   "metadata": {},
   "outputs": [],
   "source": [
    "response = b'`V\\x81\\x80\\x00\\x01\\x00\\x01\\x00\\x00\\x00\\x00\\x03www\\x07example\\x03com\\x00\\x00\\x01\\x00\\x01\\xc0\\x0c\\x00\\x01\\x00\\x01\\x00\\x00R\\x9b\\x00\\x04]\\xb8\\xd8\"'"
   ]
  },
  {
   "cell_type": "markdown",
   "id": "79afe9ea",
   "metadata": {},
   "source": [
    "Our goal is to write a `parse_response` function that parses this response into a friendly Python object we can explore.\n",
    "\n",
    "We'll need the code we wrote in Part 1: let's import it"
   ]
  },
  {
   "cell_type": "code",
   "execution_count": 9,
   "id": "5197daa2",
   "metadata": {},
   "outputs": [],
   "source": [
    "from part_1 import build_query, DNSQuestion, DNSHeader"
   ]
  },
  {
   "cell_type": "markdown",
   "id": "47f97c27",
   "metadata": {},
   "source": [
    "## 2.1: define our DNSRecord class\n",
    "\n",
    "The answer to our query is going to be in a DNS Record, so we need to define one more class."
   ]
  },
  {
   "cell_type": "code",
   "execution_count": 10,
   "id": "709f95de",
   "metadata": {},
   "outputs": [],
   "source": [
    "from dataclasses import dataclass \n",
    "\n",
    "@dataclass\n",
    "class DNSRecord:\n",
    "    name: bytes\n",
    "    type_: int\n",
    "    class_: int\n",
    "    ttl: int\n",
    "    data: bytes "
   ]
  },
  {
   "cell_type": "markdown",
   "id": "96fb0b09",
   "metadata": {},
   "source": [
    "\n",
    "The fields here are:\n",
    "\n",
    "* `name`: the domain name\n",
    "* `type_`: A, AAAA, MX, NS, TXT, etc (encoded as an integer)\n",
    "* `class`: always the same (1). We'll ignore this.\n",
    "* `ttl`: how long to cache the query for. We'll ignore this.\n",
    "* `data`: the record's content, like the IP address. "
   ]
  },
  {
   "cell_type": "markdown",
   "id": "ae9d48b6",
   "metadata": {},
   "source": [
    "## 2.2: parse the DNS header\n",
    "\n",
    "First, we need to parse the DNS header. Here's the code to do that:"
   ]
  },
  {
   "cell_type": "code",
   "execution_count": 11,
   "id": "32b686ff",
   "metadata": {},
   "outputs": [],
   "source": [
    "import struct\n",
    "\n",
    "def parse_header(reader):\n",
    "    items = struct.unpack(\"!HHHHHH\", reader.read(12))\n",
    "    # see \"a note on BytesIO\" for an explanation of `reader` here\n",
    "    return DNSHeader(*items)"
   ]
  },
  {
   "cell_type": "markdown",
   "id": "03454601",
   "metadata": {},
   "source": [
    "This mirrors our code from `header_to_bytes` in Part 1.2: the format string (`!HHHHHH`) is exactly the same. Each of the 6 fields is a 2-byte integer, so there are 12 bytes in all to read.\n",
    "\n",
    "Let's try it out!"
   ]
  },
  {
   "cell_type": "code",
   "execution_count": 12,
   "id": "5a67aac0",
   "metadata": {},
   "outputs": [
    {
     "data": {
      "text/plain": [
       "DNSHeader(id=24662, flags=33152, num_questions=1, num_answers=1, num_authorities=0, num_additionals=0)"
      ]
     },
     "execution_count": 12,
     "metadata": {},
     "output_type": "execute_result"
    }
   ],
   "source": [
    "from io import BytesIO\n",
    "reader = BytesIO(response)\n",
    "parse_header(reader)"
   ]
  },
  {
   "cell_type": "markdown",
   "id": "c5a55a37",
   "metadata": {},
   "source": [
    "We're already getting somewhere! Our response has:\n",
    "\n",
    "* an ID of `24662`\n",
    "* some flags (which we're going to ignore)\n",
    "* 1 question\n",
    "* 1 answer"
   ]
  },
  {
   "cell_type": "markdown",
   "id": "db561e2d",
   "metadata": {},
   "source": [
    "## a note on BytesIO\n",
    "\n",
    "This `reader` argument to `parse_header` is a `BytesIO` object.\n",
    "`BytesIO` lets you keep a pointer to the current position in a byte stream and lets you\n",
    "read from it and advance the pointer.\n",
    "\n",
    "This is super convenient and it's going to let us write code like\n",
    "\n",
    "```\n",
    "reader = BytesIO(request)\n",
    "header = parse_header(reader)\n",
    "question = parse_question(reader)\n",
    "```\n"
   ]
  },
  {
   "cell_type": "markdown",
   "id": "8b12b5de",
   "metadata": {},
   "source": [
    "## 2.3: parse the domain name (wrong)\n",
    "\n",
    "Next, we have to parse the question. Here's the question section of the query, and you can see it that it starts with a domain name (`www.example.com`)"
   ]
  },
  {
   "cell_type": "code",
   "execution_count": 13,
   "id": "176238a9",
   "metadata": {},
   "outputs": [
    {
     "data": {
      "text/plain": [
       "b'\\x03www\\x07example\\x03com\\x00\\x00\\x01\\x00\\x01'"
      ]
     },
     "execution_count": 13,
     "metadata": {},
     "output_type": "execute_result"
    }
   ],
   "source": [
    "question = reader.read(21)\n",
    "question"
   ]
  },
  {
   "cell_type": "markdown",
   "id": "7a720fac",
   "metadata": {},
   "source": [
    "So really our next task is to parse a domain name. First, here's a simple version that doesn't quite work:"
   ]
  },
  {
   "cell_type": "code",
   "execution_count": 14,
   "id": "f72f376a",
   "metadata": {},
   "outputs": [],
   "source": [
    "def decode_name_simple(reader):\n",
    "    parts = []\n",
    "    while (length := reader.read(1)[0]) != 0:\n",
    "        parts.append(reader.read(length))\n",
    "    return b\".\".join(parts)"
   ]
  },
  {
   "cell_type": "markdown",
   "id": "141acb6a",
   "metadata": {},
   "source": [
    "This:\n",
    "\n",
    "* reads a 1-byte length\n",
    "* reads that many bytes\n",
    "* repeats until the length is 0\n",
    "* concatenates all the parts together with a `.` between each one (`['example', 'com']` => `'example.com'`)\n",
    "\n",
    "Let's use this function to parse the question section."
   ]
  },
  {
   "cell_type": "markdown",
   "id": "46de20f0",
   "metadata": {},
   "source": [
    "## 2.4: parse the question"
   ]
  },
  {
   "cell_type": "code",
   "execution_count": 15,
   "id": "7a07962d",
   "metadata": {},
   "outputs": [],
   "source": [
    "def parse_question(reader):\n",
    "    name = decode_name_simple(reader)\n",
    "    data = reader.read(4)\n",
    "    type_, class_ = struct.unpack(\"!HH\", data)\n",
    "    return DNSQuestion(name, type_, class_)"
   ]
  },
  {
   "cell_type": "code",
   "execution_count": 16,
   "id": "67e81fb0",
   "metadata": {},
   "outputs": [
    {
     "data": {
      "text/plain": [
       "DNSQuestion(name=b'www.example.com', type_=1, class_=1)"
      ]
     },
     "execution_count": 16,
     "metadata": {},
     "output_type": "execute_result"
    }
   ],
   "source": [
    "from io import BytesIO\n",
    "reader = BytesIO(response)\n",
    "parse_header(reader)\n",
    "parse_question(reader)"
   ]
  },
  {
   "cell_type": "markdown",
   "id": "fea94ca3",
   "metadata": {},
   "source": [
    "Here the type is `1`  (which stands for \"A\", IP Address), and the class is 1."
   ]
  },
  {
   "cell_type": "markdown",
   "id": "b2daf597",
   "metadata": {},
   "source": [
    "## 2.5: parse the record"
   ]
  },
  {
   "cell_type": "markdown",
   "id": "6bfaf808",
   "metadata": {},
   "source": [
    "Now we're ready to try to parse the record. Here's where our `decode_name_simple` function is going to break down, but we'll try it anyway:"
   ]
  },
  {
   "cell_type": "code",
   "execution_count": 17,
   "id": "b1d002c7",
   "metadata": {},
   "outputs": [],
   "source": [
    "def parse_record(reader):\n",
    "    name = decode_name_simple(reader)\n",
    "    # the the type, class, TTL, and data length together are 10 bytes (2 + 2 + 4 + 2 = 10)\n",
    "    # so we read 10 bytes\n",
    "    data = reader.read(10)\n",
    "    # HHIH means 2-byte int, 2-byte-int, 4-byte int, 2-byte int\n",
    "    type_, class_, ttl, data_len = struct.unpack(\"!HHIH\", data) \n",
    "    data = reader.read(data_len)\n",
    "    return DNSRecord(name, type_, class_, ttl, data)"
   ]
  },
  {
   "cell_type": "markdown",
   "id": "ea532460",
   "metadata": {},
   "source": [
    "The record format is defined in [section 4.1.2 of RFC 1035](https://datatracker.ietf.org/doc/html/rfc1035#section-4.1.3).\n",
    "\n",
    "We can run our `parse_record` code like this, and see it fail:"
   ]
  },
  {
   "cell_type": "code",
   "execution_count": 18,
   "id": "9d813a8e",
   "metadata": {
    "tags": [
     "raises-exception"
    ]
   },
   "outputs": [
    {
     "ename": "IndexError",
     "evalue": "index out of range",
     "output_type": "error",
     "traceback": [
      "\u001b[0;31m---------------------------------------------------------------------------\u001b[0m",
      "\u001b[0;31mIndexError\u001b[0m                                Traceback (most recent call last)",
      "Cell \u001b[0;32mIn [18], line 4\u001b[0m\n\u001b[1;32m      2\u001b[0m parse_header(reader)\n\u001b[1;32m      3\u001b[0m parse_question(reader)\n\u001b[0;32m----> 4\u001b[0m \u001b[43mparse_record\u001b[49m\u001b[43m(\u001b[49m\u001b[43mreader\u001b[49m\u001b[43m)\u001b[49m\n",
      "Cell \u001b[0;32mIn [17], line 2\u001b[0m, in \u001b[0;36mparse_record\u001b[0;34m(reader)\u001b[0m\n\u001b[1;32m      1\u001b[0m \u001b[38;5;28;01mdef\u001b[39;00m \u001b[38;5;21mparse_record\u001b[39m(reader):\n\u001b[0;32m----> 2\u001b[0m     name \u001b[38;5;241m=\u001b[39m \u001b[43mdecode_name_simple\u001b[49m\u001b[43m(\u001b[49m\u001b[43mreader\u001b[49m\u001b[43m)\u001b[49m\n\u001b[1;32m      3\u001b[0m     \u001b[38;5;66;03m# the the type, class, TTL, and data length together are 10 bytes (2 + 2 + 4 + 2 = 10)\u001b[39;00m\n\u001b[1;32m      4\u001b[0m     \u001b[38;5;66;03m# so we read 10 bytes\u001b[39;00m\n\u001b[1;32m      5\u001b[0m     data \u001b[38;5;241m=\u001b[39m reader\u001b[38;5;241m.\u001b[39mread(\u001b[38;5;241m10\u001b[39m)\n",
      "Cell \u001b[0;32mIn [14], line 3\u001b[0m, in \u001b[0;36mdecode_name_simple\u001b[0;34m(reader)\u001b[0m\n\u001b[1;32m      1\u001b[0m \u001b[38;5;28;01mdef\u001b[39;00m \u001b[38;5;21mdecode_name_simple\u001b[39m(reader):\n\u001b[1;32m      2\u001b[0m     parts \u001b[38;5;241m=\u001b[39m []\n\u001b[0;32m----> 3\u001b[0m     \u001b[38;5;28;01mwhile\u001b[39;00m (length \u001b[38;5;241m:=\u001b[39m \u001b[43mreader\u001b[49m\u001b[38;5;241;43m.\u001b[39;49m\u001b[43mread\u001b[49m\u001b[43m(\u001b[49m\u001b[38;5;241;43m1\u001b[39;49m\u001b[43m)\u001b[49m\u001b[43m[\u001b[49m\u001b[38;5;241;43m0\u001b[39;49m\u001b[43m]\u001b[49m) \u001b[38;5;241m!=\u001b[39m \u001b[38;5;241m0\u001b[39m:\n\u001b[1;32m      4\u001b[0m         parts\u001b[38;5;241m.\u001b[39mappend(reader\u001b[38;5;241m.\u001b[39mread(length))\n\u001b[1;32m      5\u001b[0m     \u001b[38;5;28;01mreturn\u001b[39;00m \u001b[38;5;124mb\u001b[39m\u001b[38;5;124m\"\u001b[39m\u001b[38;5;124m.\u001b[39m\u001b[38;5;124m\"\u001b[39m\u001b[38;5;241m.\u001b[39mjoin(parts)\n",
      "\u001b[0;31mIndexError\u001b[0m: index out of range"
     ]
    }
   ],
   "source": [
    "reader = BytesIO(response)\n",
    "parse_header(reader)\n",
    "parse_question(reader)\n",
    "parse_record(reader)"
   ]
  },
  {
   "cell_type": "markdown",
   "id": "18424442",
   "metadata": {},
   "source": [
    "## thwarted by DNS compression\n",
    "\n",
    "Oops! It failed. What's happening here is -- if you modify `decode_name_simple` to print out the `length`, you'll see at some point that it prints out a length of 192. \n",
    "\n",
    "But there's no domain name segment here with a length of 192: the maximum length of each part is 63! The first 2 bits of the byte 192 (`11000000` in binary) are `11`, and any length that starts with the bits `11` is code for \"this is compressed\". \n",
    "\n",
    "This is happening because our DNS response contains many copies of the same\n",
    "domain name, and so DNS uses a simple form of **compression** to save space. This didn't show up when parsing the question because the question earlier only had 1 copy of the domain name `example.com` in it.\n",
    "\n",
    "So let's look at the real version of this function, which handles compressed\n",
    "responses. You can find DNS compression in the specification here: [RFC 1035, section 4.1.4](https://datatracker.ietf.org/doc/html/rfc1035#section-4.1.4).\n"
   ]
  },
  {
   "cell_type": "markdown",
   "id": "f0fa46ba",
   "metadata": {},
   "source": [
    "## 2.6: implement DNS compression\n",
    "\n",
    "Here's what the real `decode_name` function looks like. It's the most complicated thing in DNS parsing.\n"
   ]
  },
  {
   "cell_type": "code",
   "execution_count": 19,
   "id": "25b1ba8e",
   "metadata": {},
   "outputs": [],
   "source": [
    "def decode_name(reader):\n",
    "    parts = []\n",
    "    while (length := reader.read(1)[0]) != 0:\n",
    "        if length & 0b1100_0000:\n",
    "            parts.append(decode_compressed_name(length, reader))\n",
    "            break\n",
    "        else:\n",
    "            parts.append(reader.read(length))\n",
    "    return b\".\".join(parts)\n",
    "\n",
    "\n",
    "def decode_compressed_name(length, reader):\n",
    "    pointer_bytes = bytes([length & 0b0011_1111]) + reader.read(1)\n",
    "    pointer = struct.unpack(\"!H\", pointer_bytes)[0]\n",
    "    current_pos = reader.tell()\n",
    "    reader.seek(pointer)\n",
    "    result = decode_name(reader)\n",
    "    reader.seek(current_pos)\n",
    "    return result"
   ]
  },
  {
   "cell_type": "markdown",
   "id": "7fb19aab",
   "metadata": {},
   "source": [
    "What's going on here is:\n",
    "\n",
    "1. Every time we get a length, we check if the first 2 bits are 1s. (like we said before, the maximum length of a component of a DNS name is 63 characters, so in a normal DNS name part the top 2 bits will never be set)\n",
    "2. If so, call `decode_compressed_name`, which:\n",
    "  - takes the bottom 6 bits of the `length` byte, plus the next byte, and converts that to an integer called `pointer`\n",
    "  - saves our current position in `reader`\n",
    "  * goes to the `pointer` position in the DNS packet and decodes a name\n",
    "  * restores the current position in `reader`\n",
    "  * returns the name\n",
    "3. A compressed name is never followed by another label, so after decompressing the label we immediately return.\n",
    "\n",
    "This code as implemented actually has a security vulnerability -- see Exercise 3 for more about that."
   ]
  },
  {
   "cell_type": "markdown",
   "id": "fe7fbdef",
   "metadata": {},
   "source": [
    "## 2.7: finish our DNSRecord parsing"
   ]
  },
  {
   "cell_type": "markdown",
   "id": "c9774bf9",
   "metadata": {},
   "source": [
    "Here's the final `parse_record` function. We've just replaced `decode_name_simple` in the version from part 2.5 with the new `decode_name`."
   ]
  },
  {
   "cell_type": "code",
   "execution_count": 20,
   "id": "c7c5b726",
   "metadata": {},
   "outputs": [],
   "source": [
    "def parse_record(reader):\n",
    "    name = decode_name(reader)\n",
    "    data = reader.read(10)\n",
    "    type_, class_, ttl, data_len = struct.unpack(\"!HHIH\", data)\n",
    "    data = reader.read(data_len)\n",
    "    return DNSRecord(name, type_, class_, ttl, data)"
   ]
  },
  {
   "cell_type": "markdown",
   "id": "420e93d6",
   "metadata": {},
   "source": [
    "Let's test that it works:"
   ]
  },
  {
   "cell_type": "code",
   "execution_count": 21,
   "id": "b2257758",
   "metadata": {},
   "outputs": [
    {
     "data": {
      "text/plain": [
       "DNSRecord(name=b'www.example.com', type_=1, class_=1, ttl=21147, data=b']\\xb8\\xd8\"')"
      ]
     },
     "execution_count": 21,
     "metadata": {},
     "output_type": "execute_result"
    }
   ],
   "source": [
    "reader = BytesIO(response)\n",
    "parse_header(reader)\n",
    "parse_question(reader)\n",
    "parse_record(reader)"
   ]
  },
  {
   "cell_type": "markdown",
   "id": "6fe546d5",
   "metadata": {},
   "source": [
    "Hooray!"
   ]
  },
  {
   "cell_type": "markdown",
   "id": "9fff9dbc",
   "metadata": {},
   "source": [
    "## 2.8: parse our DNS packet\n",
    "\n",
    "Now that we know how to parse each of the pieces, we can put it all together\n",
    "and parse our entire DNS packet. \n",
    "\n",
    "Previously we were parsing 1 header, 1 question, and 1 record, but that's actually not how DNS packets work in general: the header has a bunch of numbers (`num_questions`, `num_answers`, `num_additionals`, and `num_authorities`) that tell us how many records to expect in each section of the packet.\n",
    "\n",
    "So we should respect that.\n",
    "\n",
    "Let's make a class to hold all of the contents of our DNS packet (the header, the questions, and all the records):"
   ]
  },
  {
   "cell_type": "code",
   "execution_count": 22,
   "id": "a4d2f9e6",
   "metadata": {},
   "outputs": [],
   "source": [
    "from typing import List\n",
    "\n",
    "@dataclass\n",
    "class DNSPacket:\n",
    "    header: DNSHeader\n",
    "    questions: List[DNSQuestion]\n",
    "    # don't worry about the exact meaning of these 3 record\n",
    "    # sections for now: we'll use them in Part 3\n",
    "    answers: List[DNSRecord]\n",
    "    authorities: List[DNSRecord]\n",
    "    additionals: List[DNSRecord]"
   ]
  },
  {
   "cell_type": "markdown",
   "id": "d9297f1a",
   "metadata": {},
   "source": [
    "And here's the final parsing code:"
   ]
  },
  {
   "cell_type": "code",
   "execution_count": 23,
   "id": "9e9d9fad",
   "metadata": {},
   "outputs": [],
   "source": [
    "def parse_dns_packet(data):\n",
    "    reader = BytesIO(data)\n",
    "    header = parse_header(reader)\n",
    "    questions = [parse_question(reader) for _ in range(header.num_questions)]\n",
    "    answers = [parse_record(reader) for _ in range(header.num_answers)]\n",
    "    authorities = [parse_record(reader) for _ in range(header.num_authorities)]\n",
    "    additionals = [parse_record(reader) for _ in range(header.num_additionals)]\n",
    "\n",
    "    return DNSPacket(header, questions, answers, authorities, additionals)"
   ]
  },
  {
   "cell_type": "code",
   "execution_count": 24,
   "id": "9d7e9bf7",
   "metadata": {},
   "outputs": [
    {
     "data": {
      "text/plain": [
       "DNSPacket(header=DNSHeader(id=24662, flags=33152, num_questions=1, num_answers=1, num_authorities=0, num_additionals=0), questions=[DNSQuestion(name=b'www.example.com', type_=1, class_=1)], answers=[DNSRecord(name=b'www.example.com', type_=1, class_=1, ttl=21147, data=b']\\xb8\\xd8\"')], authorities=[], additionals=[])"
      ]
     },
     "execution_count": 24,
     "metadata": {},
     "output_type": "execute_result"
    }
   ],
   "source": [
    "packet = parse_dns_packet(response)\n",
    "packet"
   ]
  },
  {
   "cell_type": "markdown",
   "id": "22918e0e",
   "metadata": {},
   "source": [
    "Now, let's try to look at the IP address in this response. What's the IP for `www.example.com`?"
   ]
  },
  {
   "cell_type": "code",
   "execution_count": 25,
   "id": "f39268f5",
   "metadata": {},
   "outputs": [
    {
     "data": {
      "text/plain": [
       "b']\\xb8\\xd8\"'"
      ]
     },
     "execution_count": 25,
     "metadata": {},
     "output_type": "execute_result"
    }
   ],
   "source": [
    "ip = packet.answers[0].data\n",
    "ip"
   ]
  },
  {
   "cell_type": "markdown",
   "id": "46813caf",
   "metadata": {},
   "source": [
    "Hmm. Looks like we still have a little bit of work to do."
   ]
  },
  {
   "cell_type": "markdown",
   "id": "5fa74f3b",
   "metadata": {},
   "source": [
    "## a note on printing binary data"
   ]
  },
  {
   "cell_type": "markdown",
   "id": "bbc07e2a",
   "metadata": {},
   "source": [
    "The IP address in the previous record is being printed as `b']\\xb8\\xd8\"'`. What are the `[` and `\"` doing there?\n",
    "\n",
    "When Python prints out binary strings, by default it tries to decode their contents as ASCII text when possible. Sometimes this is useful, like this:"
   ]
  },
  {
   "cell_type": "code",
   "execution_count": 49,
   "id": "ffdf5257",
   "metadata": {},
   "outputs": [
    {
     "data": {
      "text/plain": [
       "b'\\x03www\\x07example\\x03com\\x00\\x00'"
      ]
     },
     "execution_count": 49,
     "metadata": {},
     "output_type": "execute_result"
    }
   ],
   "source": [
    "response[12:30]"
   ]
  },
  {
   "cell_type": "markdown",
   "id": "25b3d7d3",
   "metadata": {},
   "source": [
    "There, you can read `www`, `example`, and `com`, which makes the binary data a little easier to read because those parts of the data actually are text.\n",
    "\n",
    "But in the case of `b']\\xb8\\xd8\"`, it's not very helpful to know that the first character is an `]` in ASCII because the `]` byte doesn't actually represent text. Here are a few other ways to approach printing it:"
   ]
  },
  {
   "cell_type": "code",
   "execution_count": 53,
   "id": "ff932122",
   "metadata": {},
   "outputs": [
    {
     "name": "stdout",
     "output_type": "stream",
     "text": [
      "b']\\xb8\\xd8\"'\n",
      "5db8d822\n",
      "[93, 184, 216, 34]\n"
     ]
    }
   ],
   "source": [
    "ip_address = b']\\xb8\\xd8\"'\n",
    "print(ip_address) # the default way\n",
    "print(ip_address.hex()) # as hexadecimal\n",
    "print([x for x in ip_address]) # as an array of 4 numbers in base 10"
   ]
  },
  {
   "cell_type": "markdown",
   "id": "f70455d1",
   "metadata": {},
   "source": [
    "In this case the IP address is `93.184.216.34`, so the last representation is actually the most readable. Let's write some code to pretty print the IP address."
   ]
  },
  {
   "cell_type": "markdown",
   "id": "5a08dfe4",
   "metadata": {},
   "source": [
    "## 2.9: pretty print the IP address\n",
    "\n",
    "When we get an IPv4 address in a DNS response, it's not formatted as \"1.2.3.4\"\n",
    "-- instead it's 4 bytes (1, 2, 3, and 4). So to make it a string we need to\n",
    "pretty print it."
   ]
  },
  {
   "cell_type": "markdown",
   "id": "3250b392",
   "metadata": {},
   "source": [
    "This is pretty simple to do: `ip` is a byte string of length 4:"
   ]
  },
  {
   "cell_type": "code",
   "execution_count": 26,
   "id": "8f6eb2ed",
   "metadata": {},
   "outputs": [
    {
     "data": {
      "text/plain": [
       "(93, 184, 216, 34)"
      ]
     },
     "execution_count": 26,
     "metadata": {},
     "output_type": "execute_result"
    }
   ],
   "source": [
    "ip[0], ip[1], ip[2], ip[3]"
   ]
  },
  {
   "cell_type": "markdown",
   "id": "f1d8ba5d",
   "metadata": {},
   "source": [
    "and the IP address this translates to is `93.184.216.34`. Here's a function to translate the IP to a string:"
   ]
  },
  {
   "cell_type": "code",
   "execution_count": 27,
   "id": "e6f3333a",
   "metadata": {},
   "outputs": [],
   "source": [
    "def ip_to_string(ip):\n",
    "    return \".\".join([str(x) for x in ip])"
   ]
  },
  {
   "cell_type": "code",
   "execution_count": 28,
   "id": "2e43546d",
   "metadata": {},
   "outputs": [
    {
     "data": {
      "text/plain": [
       "'93.184.216.34'"
      ]
     },
     "execution_count": 28,
     "metadata": {},
     "output_type": "execute_result"
    }
   ],
   "source": [
    "ip_to_string(packet.answers[0].data)"
   ]
  },
  {
   "cell_type": "markdown",
   "id": "a31d9a2f",
   "metadata": {},
   "source": [
    "## 2.10: test out all our code"
   ]
  },
  {
   "cell_type": "markdown",
   "id": "1d49f8bc",
   "metadata": {},
   "source": [
    "Let's write a little function to look up any domain name using `8.8.8.8` and print out the IP address."
   ]
  },
  {
   "cell_type": "code",
   "execution_count": 29,
   "id": "2bc7b142",
   "metadata": {},
   "outputs": [],
   "source": [
    "import socket\n",
    "\n",
    "TYPE_A = 1\n",
    "\n",
    "def lookup_domain(domain_name):\n",
    "    query = build_query(domain_name, TYPE_A)\n",
    "    sock = socket.socket(socket.AF_INET, socket.SOCK_DGRAM)\n",
    "    sock.sendto(query, (\"8.8.8.8\", 53))\n",
    "\n",
    "    # get the response\n",
    "    data, _ = sock.recvfrom(1024)\n",
    "    response = parse_dns_packet(data)\n",
    "    return ip_to_string(response.answers[0].data)"
   ]
  },
  {
   "cell_type": "markdown",
   "id": "a5c6792d",
   "metadata": {},
   "source": [
    "This builds the query, sends it to `8.8.8.8`, parses the response, and pretty prints the IP address.\n",
    "\n",
    "Let's try it out on a few domain names!"
   ]
  },
  {
   "cell_type": "code",
   "execution_count": 30,
   "id": "e3ac4734",
   "metadata": {},
   "outputs": [
    {
     "data": {
      "text/plain": [
       "'93.184.216.34'"
      ]
     },
     "execution_count": 30,
     "metadata": {},
     "output_type": "execute_result"
    }
   ],
   "source": [
    "lookup_domain(\"example.com\")"
   ]
  },
  {
   "cell_type": "code",
   "execution_count": 31,
   "id": "cf2e79a9",
   "metadata": {},
   "outputs": [
    {
     "data": {
      "text/plain": [
       "'13.225.195.117'"
      ]
     },
     "execution_count": 31,
     "metadata": {},
     "output_type": "execute_result"
    }
   ],
   "source": [
    "lookup_domain(\"recurse.com\")"
   ]
  },
  {
   "cell_type": "code",
   "execution_count": 32,
   "id": "40741d71",
   "metadata": {},
   "outputs": [
    {
     "data": {
      "text/plain": [
       "'54.203.56.158'"
      ]
     },
     "execution_count": 32,
     "metadata": {},
     "output_type": "execute_result"
    }
   ],
   "source": [
    "lookup_domain(\"metafilter.com\")"
   ]
  },
  {
   "cell_type": "markdown",
   "id": "6b97d8bd",
   "metadata": {},
   "source": [
    "This parsing code is enough to get us to the next part: writing our DNS resolver!\n",
    "\n",
    "This code is far from perfect -- there are some pretty serious bugs, like this one:"
   ]
  },
  {
   "cell_type": "code",
   "execution_count": 33,
   "id": "d1175644",
   "metadata": {},
   "outputs": [
    {
     "data": {
      "text/plain": [
       "'9.115.116.97.114.45.109.105.110.105.4.99.49.48.114.192.16'"
      ]
     },
     "execution_count": 33,
     "metadata": {},
     "output_type": "execute_result"
    }
   ],
   "source": [
    "lookup_domain(\"www.facebook.com\")"
   ]
  },
  {
   "cell_type": "markdown",
   "id": "1cee752b",
   "metadata": {},
   "source": [
    "or this one:"
   ]
  },
  {
   "cell_type": "code",
   "execution_count": 34,
   "id": "7b646760",
   "metadata": {},
   "outputs": [
    {
     "data": {
      "text/plain": [
       "'192.16'"
      ]
     },
     "execution_count": 34,
     "metadata": {},
     "output_type": "execute_result"
    }
   ],
   "source": [
    "lookup_domain(\"www.metafilter.com\")"
   ]
  },
  {
   "cell_type": "markdown",
   "id": "b6a8df6f",
   "metadata": {},
   "source": [
    "But I'll leave those as a puzzle for you to solve if you want (hint: look at the record type!)"
   ]
  }
 ],
 "metadata": {
  "kernelspec": {
   "display_name": "Python 3 (ipykernel)",
   "language": "python",
   "name": "python3"
  },
  "language_info": {
   "codemirror_mode": {
    "name": "ipython",
    "version": 3
   },
   "file_extension": ".py",
   "mimetype": "text/x-python",
   "name": "python",
   "nbconvert_exporter": "python",
   "pygments_lexer": "ipython3",
   "version": "3.9.6"
  }
 },
 "nbformat": 4,
 "nbformat_minor": 5
}
