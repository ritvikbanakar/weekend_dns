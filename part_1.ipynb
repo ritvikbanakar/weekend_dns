{
 "cells": [
  {
   "cell_type": "markdown",
   "id": "272b3ea3",
   "metadata": {},
   "source": [
    "# Part 1: Build a DNS query\n",
    "\n",
    "How do we make a query asking for the IP address for `google.com`?\n",
    "\n",
    "Well, DNS queries have 2 parts: a **header** and a **question**. So we're going to \n",
    "\n",
    "1. create some Python classes for the header and the question\n",
    "2. Write `header_to_bytes` and `question_to_bytes` functions to convert those objects into byte strings\n",
    "3. Write a `build_query(domain_name, record_type)` function that creates a DNS query"
   ]
  },
  {
   "cell_type": "markdown",
   "id": "1ea27c19",
   "metadata": {},
   "source": [
    "## 1.1: write the `DNSHeader` and `DNSQuestion` classes"
   ]
  },
  {
   "cell_type": "markdown",
   "id": "c09faa36",
   "metadata": {},
   "source": [
    "First, our DNS **Header**. This has:\n",
    "\n",
    "* a **query ID**\n",
    "* some **flags** (which we'll mostly ignore)\n",
    "* 4 **counts** (`num_questions`, `num_answers`, `num_authorities`, and `num_additionals`), telling you how many records to expect in each section of a DNS packet"
   ]
  },
  {
   "cell_type": "code",
   "execution_count": 1,
   "id": "154b8e28",
   "metadata": {},
   "outputs": [],
   "source": [
    "from dataclasses import dataclass\n",
    "import dataclasses\n",
    "import struct\n",
    "\n",
    "@dataclass\n",
    "class DNSHeader:\n",
    "    id: int\n",
    "    flags: int\n",
    "    num_questions: int = 0\n",
    "    num_answers: int = 0\n",
    "    num_authorities: int = 0\n",
    "    num_additionals: int = 0"
   ]
  },
  {
   "cell_type": "markdown",
   "id": "7e0ae96f",
   "metadata": {},
   "source": [
    "Next, a DNS **Question** just has 3 fields: a name (like `example.com`), a type (like `A`), and a class (which is always the same)."
   ]
  },
  {
   "cell_type": "code",
   "execution_count": 2,
   "id": "e0d2dcaf",
   "metadata": {},
   "outputs": [],
   "source": [
    "@dataclass\n",
    "class DNSQuestion:\n",
    "    name: bytes\n",
    "    type_: int \n",
    "    class_: int "
   ]
  },
  {
   "cell_type": "markdown",
   "id": "12074072",
   "metadata": {},
   "source": [
    "We're calling the class and type fields `class_` and `type_` because `class` is a reserved word and `type` is a built in function in Python."
   ]
  },
  {
   "cell_type": "markdown",
   "id": "d8432a2e",
   "metadata": {},
   "source": [
    "## 1.2: convert these to bytes"
   ]
  },
  {
   "cell_type": "markdown",
   "id": "27d6469f",
   "metadata": {},
   "source": [
    "Next, we need to write some code to convert our Python classes into byte strings. \n",
    "First I'll show you the code, then I'll explain what it means."
   ]
  },
  {
   "cell_type": "code",
   "execution_count": 3,
   "id": "621ff324",
   "metadata": {},
   "outputs": [],
   "source": [
    "def header_to_bytes(header):\n",
    "    fields = dataclasses.astuple(header)\n",
    "    # there are 6 `H`s because there are 6 fields\n",
    "    return struct.pack(\"!HHHHHH\", *fields)\n",
    "\n",
    "def question_to_bytes(question):\n",
    "    return question.name + struct.pack(\"!HH\", question.type_, question.class_)"
   ]
  },
  {
   "cell_type": "markdown",
   "id": "4311f1bd",
   "metadata": {},
   "source": [
    "## meet `struct.pack`: how we create byte strings\n",
    "\n",
    "In the `to_bytes` function, we converted our Python objects into a byte string\n",
    "using the `struct` module, which is built into Python. \n",
    "\n",
    "Let's see an example of how `struct` can convert Python variables into byte strings:"
   ]
  },
  {
   "cell_type": "code",
   "execution_count": 4,
   "id": "f5788594",
   "metadata": {},
   "outputs": [
    {
     "data": {
      "text/plain": [
       "b'\\x00\\x05\\x00\\x17'"
      ]
     },
     "execution_count": 4,
     "metadata": {},
     "output_type": "execute_result"
    }
   ],
   "source": [
    "struct.pack('!HH', 5, 23)"
   ]
  },
  {
   "cell_type": "markdown",
   "id": "8b04e3bd",
   "metadata": {},
   "source": [
    "`H` means \"2-byte integer\", so `!HH` is saying \"format the arguments as two\n",
    "2-byte integers. `\\x00\\x05` is 5 and `\\x00\\x17` is 23. \n",
    "\n",
    "### `struct.pack` format strings\n",
    "\n",
    "In the format string `\"!HH\"`, there's an `H`, which we just said means \"2 byte integer\". Here are some more examples of things we'll be using later in our format strings:\n",
    "\n",
    "* `H`: 2 bytes (as an integer)\n",
    "* `I`: 4 bytes (as an integer)\n",
    "* `4s`: 4 bytes (as a byte string)"
   ]
  },
  {
   "cell_type": "markdown",
   "id": "a42611fe",
   "metadata": {},
   "source": [
    "Here's what an example DNS header looks like converted to bytes:"
   ]
  },
  {
   "cell_type": "code",
   "execution_count": 5,
   "id": "03ce8642",
   "metadata": {},
   "outputs": [
    {
     "data": {
      "text/plain": [
       "b'\\x13\\x14\\x00\\x00\\x00\\x01\\x00\\x00\\x00\\x00\\x00\\x00'"
      ]
     },
     "execution_count": 5,
     "metadata": {},
     "output_type": "execute_result"
    }
   ],
   "source": [
    "header_to_bytes(DNSHeader(id=0x1314, flags=0, num_questions=1, num_additionals=0, num_authorities=0, num_answers=0))"
   ]
  },
  {
   "cell_type": "markdown",
   "id": "dd0c84e0",
   "metadata": {},
   "source": [
    "### a note on byte order\n",
    "\n",
    "Why is there a `!` at the beginning of the format string `\"!HH\"`? That's\n",
    "because anytime you convert an integer into a byte string, there are two\n",
    "options for how to do it. Let's see the two ways to convert the integer\n",
    "`0x01020304` (16909060) into a 4-byte string:"
   ]
  },
  {
   "cell_type": "code",
   "execution_count": 6,
   "id": "fedae0e1",
   "metadata": {},
   "outputs": [
    {
     "data": {
      "text/plain": [
       "b'\\x04\\x03\\x02\\x01'"
      ]
     },
     "execution_count": 6,
     "metadata": {},
     "output_type": "execute_result"
    }
   ],
   "source": [
    "int.to_bytes(0x01020304, length=4, byteorder='little')"
   ]
  },
  {
   "cell_type": "code",
   "execution_count": 7,
   "id": "9d79f397",
   "metadata": {},
   "outputs": [
    {
     "data": {
      "text/plain": [
       "b'\\x01\\x02\\x03\\x04'"
      ]
     },
     "execution_count": 7,
     "metadata": {},
     "output_type": "execute_result"
    }
   ],
   "source": [
    "int.to_bytes(0x01020304, length=4, byteorder='big')"
   ]
  },
  {
   "cell_type": "markdown",
   "id": "05707fcd",
   "metadata": {},
   "source": [
    "These are the reversed versions of each other. `b'\\x01\\x02\\x03\\x04'` is the\n",
    "\"little endian\" version and `b'\\x04\\x03\\x02\\x01'` is the \"big endian\" version. \n",
    "\n",
    "The names \"little-endian\" and \"big endian\" actually have a funny origin:\n",
    "they're named after two satirical religious sects in Gulliver's Travels. One\n",
    "sect liked to break eggs on the little end, and the other liked the big end.\n",
    "They're named after this Gulliver's travels debate because people used to like\n",
    "to argue a lot about which byte order was best but it didn't make a big\n",
    "difference.\n",
    "\n",
    "In network packets, integers are always encoded in a big endian way (though\n",
    "little endian is the default in most other situations). So `!` is telling\n",
    "Python \"use the byte order for computer networking\"."
   ]
  },
  {
   "cell_type": "markdown",
   "id": "3072fb29",
   "metadata": {},
   "source": [
    "## 1.3: encode the name"
   ]
  },
  {
   "cell_type": "markdown",
   "id": "e3ebd263",
   "metadata": {},
   "source": [
    "Now we're ready to build our DNS query.\n",
    "\n",
    "First, we need to encode the domain name. We don't literally send \"google.com\",\n",
    "instead it gets translated into `b\"\\x06google\\x03com\\x00\"`. To get this encoding, we split the domain name into parts, and then each part is prepended with its length. So it's `6` `google` `3` `com` `0`.\n",
    "\n",
    "Here's the code:"
   ]
  },
  {
   "cell_type": "code",
   "execution_count": 8,
   "id": "b68bdbf7",
   "metadata": {},
   "outputs": [],
   "source": [
    "def encode_dns_name(domain_name):\n",
    "    encoded = b\"\"\n",
    "    for part in domain_name.encode(\"ascii\").split(b\".\"):\n",
    "        encoded += bytes([len(part)]) + part\n",
    "    return encoded + b\"\\x00\""
   ]
  },
  {
   "cell_type": "markdown",
   "id": "01a6f8cd",
   "metadata": {},
   "source": [
    "This code:\n",
    "\n",
    "1. starts with an empty byte string\n",
    "1. splits the domain name into parts (`[\"google\", \"com\"]`)\n",
    "1. for each part, add the number of bytes in `part` to the encoded string, as well as `part`. For example `\"google\" -> b\"\\x06google\"`.\n",
    "1. Finally, add a 0 byte to the end"
   ]
  },
  {
   "cell_type": "markdown",
   "id": "0f460e06",
   "metadata": {},
   "source": [
    "Let's run it:"
   ]
  },
  {
   "cell_type": "code",
   "execution_count": 9,
   "id": "ab4b4783",
   "metadata": {},
   "outputs": [
    {
     "data": {
      "text/plain": [
       "b'\\x06google\\x03com\\x00'"
      ]
     },
     "execution_count": 9,
     "metadata": {},
     "output_type": "execute_result"
    }
   ],
   "source": [
    "encode_dns_name(\"google.com\")"
   ]
  },
  {
   "cell_type": "markdown",
   "id": "ed98ba8c",
   "metadata": {},
   "source": [
    "The first byte of the output is `6` (the length of `\"google\"`):"
   ]
  },
  {
   "cell_type": "code",
   "execution_count": 10,
   "id": "e3d060af",
   "metadata": {},
   "outputs": [
    {
     "data": {
      "text/plain": [
       "6"
      ]
     },
     "execution_count": 10,
     "metadata": {},
     "output_type": "execute_result"
    }
   ],
   "source": [
    "encode_dns_name(\"google.com\")[0]"
   ]
  },
  {
   "cell_type": "markdown",
   "id": "e85aa41b",
   "metadata": {},
   "source": [
    "## 1.4: build the query"
   ]
  },
  {
   "cell_type": "markdown",
   "id": "a33313ba",
   "metadata": {},
   "source": [
    "Finally, let's write our `build_query` function! Our function takes a domain name (like\n",
    "`google.com`) and the number of a DNS record type (like `A`)."
   ]
  },
  {
   "cell_type": "code",
   "execution_count": 11,
   "id": "b6d44aef",
   "metadata": {},
   "outputs": [],
   "source": [
    "import random\n",
    "random.seed(1)\n",
    "\n",
    "TYPE_A = 1\n",
    "CLASS_IN = 1\n",
    "\n",
    "def build_query(domain_name, record_type):\n",
    "    name = encode_dns_name(domain_name)\n",
    "    id = random.randint(0, 65535)\n",
    "    RECURSION_DESIRED = 1 << 8\n",
    "    header = DNSHeader(id=id, num_questions=1, flags=RECURSION_DESIRED)\n",
    "    question = DNSQuestion(name=name, type_=record_type, class_=CLASS_IN)\n",
    "    return header_to_bytes(header) + question_to_bytes(question)"
   ]
  },
  {
   "cell_type": "markdown",
   "id": "852803f1",
   "metadata": {},
   "source": [
    "This:\n",
    "\n",
    "1. Defines some constants (`TYPE_A = 1`, `CLASS_IN = 1`). The encodings for query types and classes are defined [in section 3.2.2 to 3.2.4 of RFC 1035](https://datatracker.ietf.org/doc/html/rfc1035#section-3.2.2).\n",
    "2. encodes the DNS name with `encode_dns_name`\n",
    "3. picks a random ID for the query\n",
    "4. sets the flags to \"recursion desired\" (which you need to set any time you're talking to a DNS resolver). The encoding for the flags is defined in [section 4.1.1 of RFC 1035](https://datatracker.ietf.org/doc/html/rfc1035#section-4.1.1). The reason for `RECURSION_DESIRED = 1<<8` is that, according to RFC 1035, the Recursion Desired bit is the 9th bit from the left in the flags field, and `1 << 8` gives you a number that has a 1 in the 9th bit position from the left and 0 everywhere else (`1 << 8` = `100000000` in binary).\n",
    "5. creates the question\n",
    "6. concatenates the header and the question together"
   ]
  },
  {
   "cell_type": "code",
   "execution_count": 12,
   "id": "f65b6316",
   "metadata": {},
   "outputs": [
    {
     "data": {
      "text/plain": [
       "b'D\\xcb\\x01\\x00\\x00\\x01\\x00\\x00\\x00\\x00\\x00\\x00\\x07example\\x03com\\x00\\x00\\x01\\x00\\x01'"
      ]
     },
     "execution_count": 12,
     "metadata": {},
     "output_type": "execute_result"
    }
   ],
   "source": [
    "build_query(\"example.com\", TYPE_A)"
   ]
  },
  {
   "cell_type": "markdown",
   "id": "f43f8e07",
   "metadata": {},
   "source": [
    "## 1.5: test our code\n",
    "\n",
    "Now let's test if our code works! Here's how to send our query to `8.8.8.8:53` using UDP and read the response. I've commented the socket code pretty heavily."
   ]
  },
  {
   "cell_type": "code",
   "execution_count": 13,
   "id": "37bc5241",
   "metadata": {},
   "outputs": [],
   "source": [
    "import socket\n",
    "\n",
    "query = build_query(\"www.example.com\", 1)\n",
    "\n",
    "# create a UDP socket\n",
    "# `socket.AF_INET` means that we're connecting to the internet\n",
    "#                  (as opposed to a Unix domain socket `AF_UNIX` for example)\n",
    "# `socket.SOCK_DGRAM` means \"UDP\"\n",
    "sock = socket.socket(socket.AF_INET, socket.SOCK_DGRAM)\n",
    "\n",
    "# send our query to 8.8.8.8, port 53. Port 53 is the DNS port.\n",
    "sock.sendto(query, (\"8.8.8.8\", 53))\n",
    "\n",
    "# read the response. UDP DNS responses are usually less than 512 bytes\n",
    "# (see https://www.netmeister.org/blog/dns-size.html for MUCH more on that)\n",
    "# so reading 1024 bytes is enough\n",
    "response, _ = sock.recvfrom(1024)"
   ]
  },
  {
   "cell_type": "markdown",
   "id": "a43c448c",
   "metadata": {},
   "source": [
    "This sends a query to Google's DNS resolver asking where `www.example.com` is.\n",
    "\n",
    "But how can we know that this worked if we don't know how to parse the response\n",
    "yet? Well, we can run `tcpdump` to see our program making its DNS query. To test this, we start `tcpdump`, then run our Python code:\n",
    "\n",
    "```\n",
    "$ sudo tcpdump -ni any port 53\n",
    "08:31:19.676059 IP 192.168.1.173.62752 > 8.8.8.8.53: 45232+ A? www.example.com. (33)\n",
    "08:31:19.694678 IP 8.8.8.8.53 > 192.168.1.173.62752: 45232 1/0/0 A 93.184.216.34 (49)\n",
    "```\n",
    "\n",
    "It worked! You can see `8.8.8.8`'s answer at the end of tcpdump's output here, at the end of the second line. \n",
    "\n",
    "Asking Google's DNS resolver here is cheating, of course -- our final goal is\n",
    "to **write** a DNS resolver that finds out where `example.com` is ourself,\n",
    "instead of asking `8.8.8.8` to do the work for us. But this is a nice easy way\n",
    "to check that our code for building a DNS query works."
   ]
  },
  {
   "cell_type": "markdown",
   "id": "4a3f71a4",
   "metadata": {},
   "source": [
    "## some debugging tips"
   ]
  },
  {
   "cell_type": "markdown",
   "id": "203be778",
   "metadata": {},
   "source": [
    "If you're implementing this in a non-Python language and you're struggling to encode the query correctly, here's a hex encoded version of a correct DNS query:"
   ]
  },
  {
   "cell_type": "code",
   "execution_count": 16,
   "id": "5aa1c098",
   "metadata": {},
   "outputs": [
    {
     "data": {
      "text/plain": [
       "'3c5f0100000100000000000003777777076578616d706c6503636f6d0000010001'"
      ]
     },
     "execution_count": 16,
     "metadata": {},
     "output_type": "execute_result"
    }
   ],
   "source": [
    "build_query(\"www.example.com\", TYPE_A).hex()"
   ]
  },
  {
   "cell_type": "markdown",
   "id": "b36b4c4a",
   "metadata": {},
   "source": [
    "I'd recommend approaching debugging this way:\n",
    "\n",
    "1. First, make sure your UDP code is working by decoding that hex string as bytes in your language, sending those exact bytes to `8.8.8.8` port 53, and using Wireshark or tcpdump to make sure that you get a DNS response.\n",
    "2. Then once your UDP code is working, hardcode the query ID to `0x8298` (the first 2 bytes of that string) and make sure that your `build_query` function is generating those exact bytes.\n",
    "3. Then start randomizing the query ID and test your code with other domain names"
   ]
  },
  {
   "cell_type": "markdown",
   "id": "f69c24d6",
   "metadata": {},
   "source": [
    "## success!\n",
    "\n",
    "In the next part, we'll see how to parse this DNS response we just got back:"
   ]
  },
  {
   "cell_type": "code",
   "execution_count": 17,
   "id": "74c2faa9",
   "metadata": {},
   "outputs": [
    {
     "data": {
      "text/plain": [
       "b' O\\x81\\x80\\x00\\x01\\x00\\x01\\x00\\x00\\x00\\x00\\x03www\\x07example\\x03com\\x00\\x00\\x01\\x00\\x01\\xc0\\x0c\\x00\\x01\\x00\\x01\\x00\\x00K\\xc3\\x00\\x04]\\xb8\\xd8\"'"
      ]
     },
     "execution_count": 17,
     "metadata": {},
     "output_type": "execute_result"
    }
   ],
   "source": [
    "response"
   ]
  },
  {
   "cell_type": "code",
   "execution_count": null,
   "id": "10522c89",
   "metadata": {},
   "outputs": [],
   "source": []
  }
 ],
 "metadata": {
  "jupytext": {
   "formats": "ipynb,md:myst"
  },
  "kernelspec": {
   "display_name": "Python 3 (ipykernel)",
   "language": "python",
   "name": "python3"
  },
  "language_info": {
   "codemirror_mode": {
    "name": "ipython",
    "version": 3
   },
   "file_extension": ".py",
   "mimetype": "text/x-python",
   "name": "python",
   "nbconvert_exporter": "python",
   "pygments_lexer": "ipython3",
   "version": "3.9.6"
  }
 },
 "nbformat": 4,
 "nbformat_minor": 5
}
